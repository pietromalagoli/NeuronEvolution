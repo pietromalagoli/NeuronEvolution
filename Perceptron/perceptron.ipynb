{
 "cells": [
  {
   "cell_type": "code",
   "execution_count": 3,
   "metadata": {},
   "outputs": [],
   "source": [
    "import numpy as np\n",
    "import graphviz"
   ]
  },
  {
   "cell_type": "code",
   "execution_count": 22,
   "metadata": {},
   "outputs": [],
   "source": [
    "!dot -Tpng -O diagraph.txt"
   ]
  },
  {
   "cell_type": "markdown",
   "metadata": {},
   "source": [
    "![diagraph.png](./diagraph.txt.png)"
   ]
  },
  {
   "cell_type": "code",
   "execution_count": null,
   "metadata": {},
   "outputs": [],
   "source": [
    "# Define some parameters of the simulation\n",
    "sim_par = {'N_sol': 20}"
   ]
  },
  {
   "cell_type": "markdown",
   "metadata": {},
   "source": [
    "As a convention, J_ij is the link that goes from node j to node i"
   ]
  },
  {
   "cell_type": "code",
   "execution_count": null,
   "metadata": {},
   "outputs": [],
   "source": [
    "# I try to create a class for the NN\n",
    "class Network:\n",
    "    \"\"\"\n",
    "    Class for a generic neural network, defined by \n",
    "    - 2 input neurons, 1 output neuron\n",
    "    - S: # of intra neurons.\n",
    "    - Theta: threshold value.\n",
    "    - J: connectivity matrix.\n",
    "    \"\"\"\n",
    "    \n",
    "    def __init__(self, S):\n",
    "        self.S = S\n",
    "        self.Theta = np.zeros(2+self.S+1)   # I instantiate a threshold value for each neuron, even the input, just for consistency of the indexes\n",
    "        # Define the connectivity matrix J0_ij\n",
    "        J0 = np.ones((2+self.S+1,2+self.S+1)) # Initialized all to one, so all connnected\n",
    "        for j in range(len(J0)):            # First, impose on J0 that the elements on the diagonal must be zero\n",
    "            J0[j,j] = 0.\n",
    "        J0[0,1] = 0.            # Impose on the connectiviy matrix the fact that nuerons on the same layer cannot be connected \n",
    "        J0[1,0] = 0.\n",
    "        for i in range(2, 2 + self.S):\n",
    "            for j in range(2, 2 + self.S):\n",
    "                if i != j:\n",
    "                    J0[i, j] = 0.       \n",
    "        self.J = J0\n",
    "        self.activation = np.heaviside()    # FIX!!!!\n",
    "        self.neurons = np.zeros(2+self.S+1) # container for storing the values of the neurons\n",
    "        \n",
    "    def generate(self,par:dict):\n",
    "        \"\"\"Generate a random network.\n",
    "\n",
    "        Args:\n",
    "            par (dict, optional): parameters of the generation.\n",
    "        \"\"\"\n",
    "        np.random.seed(par['seed'])     # set a seed\n",
    "        self.S = par['Sk_range'][np.random.randint(len(par['Sk_range']))]   # Generate S\n",
    "        self.Theta = np.random.uniform(par['Theta_range'][0],par['Theta_range'][1],2+self.S+1) # Generate the set of thresholds, Theta\n",
    "        self.J = self.J * np.random.uniform(par['J_range'][0],par['J_range'][1],(2+self.S+1)**2).reshape((2+self.S+1,2+self.S+1))   # Generate the connectivity matrix, J\n",
    "        \n",
    "        return self\n",
    "        \n",
    "    def ff(self,input:list,verb:int=0): # feed-forward\n",
    "        \"\"\"Compute the output of the network by feed-forward, given an input.\n",
    "\n",
    "        Args:\n",
    "            input (list): input to the network. Supported inputs are [0,0];[0,1];[1,0];[1,1].\n",
    "            verb (int,optional): verbosity. If > 0, returns the value of each neuron. Default to 0.\n",
    "\n",
    "        Returns:\n",
    "            output (int): output of the network.\n",
    "        \"\"\"\n",
    "        self.neurons[0:2] = input   # set the value of the first two neurons to the input value\n",
    "        \n",
    "        for neuron in range(1,2+self.S):    # compute the value of the intra neurons by feed forward\n",
    "            self.neurons[neuron] = self.J[neuron,0] * self.neurons[0] + self.J[neuron,1] * self.neurons[1]   # I refer to the lower triangle of the matrix J\n",
    "            self.neurons[neuron] = self.activation(self.neurons[neuron]-self.Theta[neuron])     # Activation\n",
    "        \n",
    "        for neuron in range(0,2+self.S):  # compute the value of the ouput\n",
    "            self.neurons[-1] = self.J[-1,neuron] * self.neurons[neuron]     # Add each neuron's weighted contribution to the output\n",
    "        self.neurons[-1] = self.activation(self.neurons[-1]-self.Theta[-1])     # activation\n",
    "        output = self.neurons[-1]\n",
    "        if verb > 0:\n",
    "            return self.neurons\n",
    "        return output\n",
    "        \n",
    "    def fitness(self,input:list,target:int):\n",
    "        output = self.ff(input)\n",
    "        squared_dist = (target - output)**2\n",
    "        squared_cost = (np.sum([0 if np.isclose(j, 0., rtol=1e-3) else 1 for j in self.J.flatten()])/2)**2  # check if the tolerance is good\n",
    "        return squared_dist * squared_cost\n",
    "    "
   ]
  },
  {
   "cell_type": "markdown",
   "metadata": {},
   "source": [
    "For this model I don't need to define the space grid, I just need to generate the solutions and then execute the algorithm. I just need to make sure that they stay in the range.\n",
    "\n",
    "I try first one loop:"
   ]
  },
  {
   "cell_type": "code",
   "execution_count": null,
   "metadata": {},
   "outputs": [],
   "source": [
    "# Generate a set of parameters\n",
    "par = {'Sk_range': [1,2,3,4,5,6,7,8,9],  # define the possible value for Sk\n",
    "       'Theta_range': [-1,+1],\n",
    "       'J_range': [-1,+1],\n",
    "       'seed': 12345}"
   ]
  },
  {
   "cell_type": "code",
   "execution_count": null,
   "metadata": {},
   "outputs": [],
   "source": [
    "# Generate the solutions\n",
    "solutions = []\n",
    "for _ in range(sim_par['N_sol']):\n",
    "    # Generate parameters\n",
    "    par['S'] = Sk_range[np.random.randint(len(Sk_range))]\n",
    "    par['Theta'] = np.random.uniform(-1,+1,1)\n",
    "    Jk = J0 * np.random.uniform(-1,+1,25).reshape((5,5))\n",
    "    # Create the network associated with the generated parameters and add it to the solutions list\n",
    "    solutions.append(Network(par,Jk))\n",
    "    "
   ]
  }
 ],
 "metadata": {
  "kernelspec": {
   "display_name": "uni",
   "language": "python",
   "name": "python3"
  },
  "language_info": {
   "codemirror_mode": {
    "name": "ipython",
    "version": 3
   },
   "file_extension": ".py",
   "mimetype": "text/x-python",
   "name": "python",
   "nbconvert_exporter": "python",
   "pygments_lexer": "ipython3",
   "version": "3.12.3"
  }
 },
 "nbformat": 4,
 "nbformat_minor": 2
}
