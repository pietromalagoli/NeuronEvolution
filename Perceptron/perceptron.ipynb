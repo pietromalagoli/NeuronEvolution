{
 "cells": [
  {
   "cell_type": "code",
   "execution_count": 3,
   "metadata": {},
   "outputs": [],
   "source": [
    "import numpy as np\n",
    "import graphviz"
   ]
  },
  {
   "cell_type": "code",
   "execution_count": 22,
   "metadata": {},
   "outputs": [],
   "source": [
    "!dot -Tpng -O diagraph.txt"
   ]
  },
  {
   "cell_type": "markdown",
   "metadata": {},
   "source": [
    "![diagraph.png](./diagraph.txt.png)"
   ]
  },
  {
   "cell_type": "code",
   "execution_count": null,
   "metadata": {},
   "outputs": [],
   "source": [
    "# Define some parameters of the simulation\n",
    "sim_par = {'N_sol': 20}"
   ]
  },
  {
   "cell_type": "code",
   "execution_count": null,
   "metadata": {},
   "outputs": [
    {
     "name": "stdout",
     "output_type": "stream",
     "text": [
      "J0:\n",
      "[[0. 0. 1. 1. 1.]\n",
      " [0. 0. 1. 1. 1.]\n",
      " [1. 1. 0. 0. 1.]\n",
      " [1. 1. 0. 0. 1.]\n",
      " [1. 1. 1. 1. 0.]]\n"
     ]
    }
   ],
   "source": [
    "# Define the variables to study in the model\n",
    "\n",
    "par = {'S': 2,  # number of intra neurons\n",
    "       'Theta': 0.} # threshold value\n",
    "\n",
    "# Define the connectivity matrix J0_iJ0 (I cannot put it in the par dictionary because it depends on S)\n",
    "J0 = np.ones((2+par['S']+1,2+par['S']+1)) # Initialized all to one, so all connnected\n",
    "\n",
    "# First, impose on J0 that the elements on the diagonal must be zero\n",
    "for j in range(len(J0)):\n",
    "    J0[j,j] = 0.\n",
    "\n",
    "# Impose on the connectiviy matrix the fact that nuerons on the same layer cannot be connected (now I do it by hand, surely it is better to create a class)\n",
    "J0[0,1] = 0.\n",
    "J0[1,0] = 0.\n",
    "for i in range(2, 2 + par['S']):\n",
    "    for j in range(2, 2 + par['S']):\n",
    "        if i != j:\n",
    "            J0[i, j] = 0.\n",
    "\n",
    "print('J0:')\n",
    "print(J0)\n"
   ]
  },
  {
   "cell_type": "code",
   "execution_count": 29,
   "metadata": {},
   "outputs": [
    {
     "name": "stdout",
     "output_type": "stream",
     "text": [
      "[[2 3]\n",
      " [4 5]]\n"
     ]
    },
    {
     "data": {
      "text/plain": [
       "3"
      ]
     },
     "execution_count": 29,
     "metadata": {},
     "output_type": "execute_result"
    }
   ],
   "source": [
    "a = np.array([[2,3],[4,5]])\n",
    "print(a)\n",
    "a[0,1]"
   ]
  },
  {
   "cell_type": "markdown",
   "metadata": {},
   "source": [
    "As a convention, J_ij is the link that goes from node j to node i"
   ]
  },
  {
   "cell_type": "code",
   "execution_count": null,
   "metadata": {},
   "outputs": [],
   "source": [
    "# I try to create a class for the NN\n",
    "class Network:\n",
    "    \"\"\"\n",
    "    Class for a generic neural network, defined by \n",
    "    - 2 input neurons, 1 output neuron\n",
    "    - S: # of intra neurons.\n",
    "    - Theta: threshold value.\n",
    "    - J: connectivity matrix.\n",
    "    \"\"\"\n",
    "    \n",
    "    def __init__(self, par, J):\n",
    "        self.S = par['S']\n",
    "        self.Theta = par['Theta']\n",
    "        self.J = J\n",
    "        self.activation = np.heaviside()\n",
    "        self.neurons = np.zeros(2+self.S+1) # container for storing the values of the neurons\n",
    "        \n",
    "        \n",
    "    def output(self,input):\n",
    "        self.neurons[0:2] = input   # set the value of the first two neurons to the input value\n",
    "        \n",
    "        for neuron in range(1,2+self.S):    # compute the value of the intra neurons by feed forward\n",
    "            self.neurons[neuron] = self.J[0,neuron] * self.neurons[0] + self.J[1,neuron] * self.neurons[1]   # I refer to the upper triangle of the matrix J\n",
    "        \n",
    "        for neuron in range(0,2+self.S):  # compute the value of the ouput\n",
    "        \n",
    "    def fitness(self,target):\n",
    "        \n",
    "        squared_dist = (target - )\n",
    "    "
   ]
  },
  {
   "cell_type": "markdown",
   "metadata": {},
   "source": [
    "For this model I don't need to define the space grid, I just need to generate the solutions and then execute the algorithm. I just need to make sure that they stay in the range.\n",
    "\n",
    "I try first one loop:"
   ]
  },
  {
   "cell_type": "code",
   "execution_count": null,
   "metadata": {},
   "outputs": [],
   "source": [
    "# Generate a set of parameters\n",
    "Sk_range = [1,2,3,4,5,6,7,8,9]  # define the possible value for Sk\n",
    "Sk = Sk_range[np.random.randint(len(Sk_range))]\n",
    "Thetak = np.random.uniform(-1,+1,1)\n",
    "Jk = J0 * np.random.uniform(-1,+1,25).reshape((5,5))"
   ]
  },
  {
   "cell_type": "code",
   "execution_count": null,
   "metadata": {},
   "outputs": [],
   "source": [
    "# Generate the solutions\n",
    "solutions = []\n",
    "for _ in range(sim_par['N_sol']):\n",
    "    # Generate parameters\n",
    "    par['S'] = Sk_range[np.random.randint(len(Sk_range))]\n",
    "    par['Theta'] = np.random.uniform(-1,+1,1)\n",
    "    Jk = J0 * np.random.uniform(-1,+1,25).reshape((5,5))\n",
    "    # Create the network associated with the generated parameters and add it to the solutions list\n",
    "    solutions.append(Network(par,Jk))\n",
    "    "
   ]
  }
 ],
 "metadata": {
  "kernelspec": {
   "display_name": "uni",
   "language": "python",
   "name": "python3"
  },
  "language_info": {
   "codemirror_mode": {
    "name": "ipython",
    "version": 3
   },
   "file_extension": ".py",
   "mimetype": "text/x-python",
   "name": "python",
   "nbconvert_exporter": "python",
   "pygments_lexer": "ipython3",
   "version": "3.12.3"
  }
 },
 "nbformat": 4,
 "nbformat_minor": 2
}
